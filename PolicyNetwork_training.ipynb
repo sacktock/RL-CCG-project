{
  "nbformat": 4,
  "nbformat_minor": 0,
  "metadata": {
    "colab": {
      "name": "PolicyNetwork-training.ipynb",
      "provenance": [],
      "collapsed_sections": []
    },
    "kernelspec": {
      "name": "python3",
      "display_name": "Python 3"
    },
    "accelerator": "GPU"
  },
  "cells": [
    {
      "cell_type": "markdown",
      "metadata": {
        "id": "8M8DfMFLUZD5"
      },
      "source": [
        "# **Policy Network Training**\n",
        "\n",
        "Below is the code for training the Policy network agent mentioned in the paper. In the paper we trained this network against the random battle agent and greedy battle agent but we observed no improvement in performance after training against the greedy battle agent. \n",
        "\n",
        "We used the Proximal Policy Optimization algorithm to train the network.\n",
        "\n",
        "**Personal note:** this code is heavily inspired by the code from \"Deep-Reinforcement-Learning-Hands-On-Second-Edition\" by Maxim Lapan. This book helped me learn a lot about actually implementing reinforcement learning algorithms and I highly recommend it. Much of the code from this book can be found here https://github.com/PacktPublishing/Deep-Reinforcement-Learning-Hands-On-Second-Edition ."
      ]
    },
    {
      "cell_type": "markdown",
      "metadata": {
        "id": "j33NqkbZVd6s"
      },
      "source": [
        "*It is important to open drive and install gym-locm so that the AI can play games*"
      ]
    },
    {
      "cell_type": "code",
      "metadata": {
        "colab": {
          "base_uri": "https://localhost:8080/"
        },
        "id": "UMVTFpCLu0sP",
        "outputId": "84cf1dd3-cd0a-4a7e-bee5-d06a628bbccd"
      },
      "source": [
        "from google.colab import drive\n",
        "drive.mount('/content/drive')"
      ],
      "execution_count": null,
      "outputs": [
        {
          "output_type": "stream",
          "text": [
            "Mounted at /content/drive\n"
          ],
          "name": "stdout"
        }
      ]
    },
    {
      "cell_type": "code",
      "metadata": {
        "colab": {
          "base_uri": "https://localhost:8080/"
        },
        "id": "LEe54laHu8W0",
        "outputId": "b91cbe9a-cc15-4085-ba20-36e0bc39824b"
      },
      "source": [
        "%cd drive/My Drive/locm_project\n",
        "! git clone https://github.com/ronaldosvieira/gym-locm.git\n",
        "%cd gym-locm\n",
        "! pip install -e ."
      ],
      "execution_count": null,
      "outputs": [
        {
          "output_type": "stream",
          "text": [
            "/content/drive/My Drive/locm_project\n",
            "fatal: destination path 'gym-locm' already exists and is not an empty directory.\n",
            "/content/drive/My Drive/locm_project/gym-locm\n",
            "Obtaining file:///content/drive/My%20Drive/locm_project/gym-locm\n",
            "Requirement already satisfied: gym in /usr/local/lib/python3.6/dist-packages (from gym-locm==1.0.0) (0.17.3)\n",
            "Requirement already satisfied: numpy in /usr/local/lib/python3.6/dist-packages (from gym-locm==1.0.0) (1.19.5)\n",
            "Requirement already satisfied: prettytable in /usr/local/lib/python3.6/dist-packages (from gym-locm==1.0.0) (2.0.0)\n",
            "Requirement already satisfied: pexpect in /usr/local/lib/python3.6/dist-packages (from gym-locm==1.0.0) (4.8.0)\n",
            "Collecting sty\n",
            "  Downloading https://files.pythonhosted.org/packages/57/20/8b633cdaa481bfeb5fd99eb3abbba151fe5d36ef64b2fb75868991f7e226/sty-1.0.0rc1-py3-none-any.whl\n",
            "Requirement already satisfied: scipy in /usr/local/lib/python3.6/dist-packages (from gym->gym-locm==1.0.0) (1.4.1)\n",
            "Requirement already satisfied: cloudpickle<1.7.0,>=1.2.0 in /usr/local/lib/python3.6/dist-packages (from gym->gym-locm==1.0.0) (1.3.0)\n",
            "Requirement already satisfied: pyglet<=1.5.0,>=1.4.0 in /usr/local/lib/python3.6/dist-packages (from gym->gym-locm==1.0.0) (1.5.0)\n",
            "Requirement already satisfied: setuptools in /usr/local/lib/python3.6/dist-packages (from prettytable->gym-locm==1.0.0) (53.0.0)\n",
            "Requirement already satisfied: wcwidth in /usr/local/lib/python3.6/dist-packages (from prettytable->gym-locm==1.0.0) (0.2.5)\n",
            "Requirement already satisfied: ptyprocess>=0.5 in /usr/local/lib/python3.6/dist-packages (from pexpect->gym-locm==1.0.0) (0.7.0)\n",
            "Requirement already satisfied: future in /usr/local/lib/python3.6/dist-packages (from pyglet<=1.5.0,>=1.4.0->gym->gym-locm==1.0.0) (0.16.0)\n",
            "Installing collected packages: sty, gym-locm\n",
            "  Running setup.py develop for gym-locm\n",
            "Successfully installed gym-locm sty-1.0.0rc1\n"
          ],
          "name": "stdout"
        }
      ]
    },
    {
      "cell_type": "markdown",
      "metadata": {
        "id": "ktKTEslEVhV_"
      },
      "source": [
        "*Imports*"
      ]
    },
    {
      "cell_type": "code",
      "metadata": {
        "id": "lGPEli77Vjnv"
      },
      "source": [
        "import numpy as np\n",
        "import collections\n",
        "import random\n",
        "import math\n",
        "import time\n",
        "from operator import attrgetter\n",
        "from typing import Type\n",
        "\n",
        "from gym_locm.engine import *\n",
        "\n",
        "import gym\n",
        "import gym.spaces\n",
        "\n",
        "import pexpect\n",
        "import sys\n",
        "\n",
        "import torch\n",
        "import torch.nn as nn\n",
        "import torch.nn.functional as F\n",
        "from torch.distributions import Categorical\n",
        "import torch.optim as optim\n",
        "\n",
        "import matplotlib.pyplot as plt"
      ],
      "execution_count": null,
      "outputs": []
    },
    {
      "cell_type": "markdown",
      "metadata": {
        "id": "qW7Zhwc9VoyK"
      },
      "source": [
        "**Random Battle Agent** - plays cards and picks actions randomly. We require this agent to act as an adversary while training the network."
      ]
    },
    {
      "cell_type": "code",
      "metadata": {
        "id": "8WRfJQ2CVqJE"
      },
      "source": [
        "class RandomBattleAgent():\n",
        "  def __init__(self, seed=None):\n",
        "    self.random = random.Random(seed)\n",
        "\n",
        "  def seed(self, seed):\n",
        "    self.random.seed(seed)\n",
        "\n",
        "  def reset(self):\n",
        "    pass\n",
        "\n",
        "  def act(self, state):\n",
        "    index = int(len(state.available_actions) * random.random())\n",
        "\n",
        "    return state.available_actions[index]"
      ],
      "execution_count": null,
      "outputs": []
    },
    {
      "cell_type": "code",
      "metadata": {
        "id": "Ksouf2qMVr9p"
      },
      "source": [
        "**Greedy Battle Agent** - plays cards that maximize the value of a handcrafted heuristic (see paper for more details). We can use this agent as a more advanced adversary once this network has learned to beat the random battle agent frequently enough."
      ],
      "execution_count": null,
      "outputs": []
    },
    {
      "cell_type": "code",
      "metadata": {
        "id": "4dOioKKGVuN9"
      },
      "source": [
        "class GreedyBattleAgent():\n",
        "    def seed(self, seed):\n",
        "        pass\n",
        "\n",
        "    def reset(self):\n",
        "        pass\n",
        "\n",
        "    @staticmethod\n",
        "    def eval_state(state):\n",
        "        \n",
        "        def eval_creature(creature):\n",
        "            score = 0\n",
        "\n",
        "            if creature.attack > 0:\n",
        "                score += 28.6875\n",
        "                score += creature.attack * 23.375\n",
        "                score += creature.defense * 29.625\n",
        "\n",
        "                if creature.has_ability('W'):\n",
        "                    score += creature.attack * 26\n",
        "\n",
        "                if creature.has_ability('L'):\n",
        "                    score += 29.0625\n",
        "\n",
        "            if creature.has_ability('G'):\n",
        "                score += 25.125\n",
        "\n",
        "            return score\n",
        "        \n",
        "        score = 0\n",
        "\n",
        "        pl = state.current_player\n",
        "        op = state.opposing_player\n",
        "\n",
        "        if pl.health < 5:\n",
        "            score -= 100\n",
        "\n",
        "        # check opponent's death\n",
        "        if op.health <= 0:\n",
        "            score += 100000\n",
        "\n",
        "        # check own death\n",
        "        elif pl.health <= 0:\n",
        "            score -= 100000\n",
        "\n",
        "        # health difference\n",
        "        score += (pl.health - op.health) * 2\n",
        "        \n",
        "        for c in pl.hand:\n",
        "            if not isinstance(c, Creature):\n",
        "                score += 14.6875\n",
        "\n",
        "        if len(pl.hand) + pl.bonus_draw + 1 <= 8:\n",
        "            score += (pl.bonus_draw + 1) * 20.625\n",
        "                \n",
        "        for pl_lane, op_lane in zip(pl.lanes, op.lanes):\n",
        "            # creature strength\n",
        "            score += sum(eval_creature(c) for c in pl_lane)\n",
        "            score -= sum(eval_creature(c) for c in op_lane)\n",
        "\n",
        "        return score\n",
        "\n",
        "    def act(self, state):\n",
        "        best_action, best_score = None, float(\"-inf\")\n",
        "\n",
        "        if len(state.available_actions) == 1:\n",
        "            return state.available_actions[0]\n",
        "        \n",
        "        for action in state.available_actions:\n",
        "            state_copy = state.clone()\n",
        "            state_copy.act(action)\n",
        "\n",
        "            score = self.eval_state(state_copy)\n",
        "            if score > best_score:\n",
        "                best_action, best_score = action, score\n",
        "        return best_action"
      ],
      "execution_count": null,
      "outputs": []
    },
    {
      "cell_type": "markdown",
      "metadata": {
        "id": "UaHDWpbxVzvT"
      },
      "source": [
        "# **Main training code**"
      ]
    },
    {
      "cell_type": "code",
      "metadata": {
        "id": "9yM5D0PLu-D7"
      },
      "source": [
        "def available_actions():\n",
        "  available_actions = env.state.available_actions\n",
        "  action_numbers = []\n",
        "\n",
        "  for action_number in range(env.action_space.n):\n",
        "    action = env.decode_action(action_number)\n",
        "    if action in available_actions:\n",
        "      action_numbers.append(action_number)\n",
        "\n",
        "  return np.array(action_numbers, dtype=np.int64)\n",
        "\n",
        "def init_weights(m):\n",
        "    if isinstance(m, nn.Linear):\n",
        "        nn.init.normal_(m.weight, mean=0., std=0.1)\n",
        "        nn.init.constant_(m.bias, 0.1)\n",
        "\n",
        "class PPO(nn.Module):\n",
        "  def __init__(self, input_shape, n_actions):\n",
        "    super(PPO, self).__init__()\n",
        "\n",
        "    self.actor = nn.Sequential(\n",
        "      nn.Linear(np.array(input_shape).prod(), 512),\n",
        "      nn.ReLU(),\n",
        "      nn.Linear(512, 256),\n",
        "      nn.ReLU(),\n",
        "      nn.Linear(256, n_actions)\n",
        "    )\n",
        "    self.critic = nn.Sequential(\n",
        "      nn.Linear(np.array(input_shape).prod(), 512),\n",
        "      nn.ReLU(),\n",
        "      nn.Linear(512, 256),\n",
        "      nn.ReLU(),\n",
        "      nn.Linear(256, 1)\n",
        "    )\n",
        "\n",
        "    self.apply(init_weights)\n",
        "\n",
        "  def forward(self, x, mask):\n",
        "    x = x.view(x.size(0),-1)\n",
        "    fx = x.float() / 256\n",
        "\n",
        "    policy = self.actor(fx)\n",
        "    value = self.critic(fx)\n",
        "\n",
        "    masked_policy = policy.masked_fill(~mask, -np.inf)\n",
        "    return masked_policy, value\n",
        "\n",
        "def calc_adv_ref(values, dones, rewards, gamma, gae_lambda):\n",
        "  last_gae = 0.0\n",
        "  adv, ref = [], []\n",
        "\n",
        "  for val, next_val, done, reward in zip(reversed(values[:-1]), reversed(values[1:]),\n",
        "                                           reversed(dones[:-1]), reversed(rewards[:-1])):\n",
        "    if done:\n",
        "      delta = reward - val\n",
        "      last_gae = delta\n",
        "    else:\n",
        "      delta = reward + gamma * next_val - val\n",
        "      last_gae = delta + gamma * gae_lambda * last_gae\n",
        "    adv.append(last_gae)\n",
        "    ref.append(last_gae + val)\n",
        "  adv = list(reversed(adv))\n",
        "  ref = list(reversed(ref))\n",
        "  return torch.FloatTensor(adv), torch.FloatTensor(ref)\n",
        "  \n",
        "def train(batch):\n",
        "    optimizer.zero_grad()\n",
        "\n",
        "    states_t, actions_t, masks_t, advantage, ref, old_logprob = batch\n",
        "    policy, values = net(states_t, masks_t)\n",
        "    loss_value = F.mse_loss(values.squeeze(-1), ref)\n",
        "\n",
        "    logpolicy = F.log_softmax(policy, dim=1)\n",
        "    logpolicy = logpolicy.masked_fill(~masks_t, 0.0)\n",
        "\n",
        "    probs = F.softmax(policy, dim=1)\n",
        "    loss_entropy = (probs * logpolicy).sum(dim=1).mean()\n",
        "\n",
        "    logprob = logpolicy.gather(1, actions_t.unsqueeze(-1)).squeeze(-1)\n",
        "    ratio = torch.exp(logprob - old_logprob)\n",
        "    surr_obj = advantage * ratio\n",
        "    clipped_surr = advantage * torch.clamp(ratio, 1.0 - CLIP_GRAD, 1.0 + CLIP_GRAD)\n",
        "    loss_policy = -torch.min(surr_obj, clipped_surr).mean()\n",
        "\n",
        "    loss = ENTROPY_BETA * loss_entropy + loss_policy + loss_value\n",
        "    loss.backward()\n",
        "    optimizer.step()\n",
        "    losses.append(loss.item())\n",
        "      \n",
        "GAMMA = 0.99\n",
        "LEARNING_RATE = 1e-5\n",
        "ENTROPY_BETA = 0.01\n",
        "BATCH_SIZE = 64\n",
        "\n",
        "PPO_TRAJ = 1025\n",
        "PPO_EPOCHS = 2\n",
        "CLIP_GRAD = 0.2\n",
        "\n",
        "GAE_LAMBDA = 0.95\n",
        "\n",
        "seed = 42\n",
        "\n",
        "device = torch.device(\"cuda\" if torch.cuda.is_available() else \"cpu\")\n",
        "\n",
        "name = \"LOCM-battle-v0\"\n",
        "# Change this to the GreedyBattleAgent() once the network is beating the random agent frequently (typically 12-20 hours of training)\n",
        "env = gym.make(name, battle_agent=RandomBattleAgent())\n",
        "\n",
        "torch.manual_seed(seed)\n",
        "torch.cuda.manual_seed(seed)\n",
        "np.random.seed(seed)\n",
        "random.seed(seed)\n",
        "torch.manual_seed(seed)\n",
        "env.seed(seed)\n",
        "env.action_space.seed(seed)\n",
        "\n",
        "net = PPO(env.observation_space.shape, env.action_space.n).to(device)\n",
        "optimizer = optim.Adam(net.parameters(), lr=LEARNING_RATE)\n",
        "\n",
        "print(net)\n",
        "\n",
        "best_m_reward = 0.0\n",
        "n_episode = 0\n",
        "ep_rewards = collections.deque(maxlen=100)\n",
        "losses = []\n",
        "m_rewards = []\n",
        "m_losses = []\n",
        "frame_idx = 0\n",
        "\n",
        "try:\n",
        "  params = torch.load('../../../../drive/My Drive/training/locm-ppo-save.chkpt')\n",
        "  net.load_state_dict(params['net'])\n",
        "  optimizer.load_state_dict(params['optimizer'])\n",
        "  frame_idx = params['frame_idx']\n",
        "  n_episode = params['n_episode']\n",
        "  best_m_reward = params['best_m_reward']\n",
        "  print(\"Resuming training session from locm-ppo-save.chkpt\")\n",
        "except:\n",
        "  print(\"Starting fresh training session\")\n",
        "\n",
        "ts_frame = frame_idx\n",
        "ts = time.time()\n",
        "\n",
        "while True:\n",
        "    \n",
        "  states = []\n",
        "  actions = []\n",
        "  masks = []\n",
        "  rewards = []\n",
        "  dones = []\n",
        "  last_done_index = None\n",
        "\n",
        "  state = env.reset()\n",
        "  \n",
        "  for _ in range(PPO_TRAJ):\n",
        "    with torch.no_grad():\n",
        "\n",
        "      indices = torch.tensor(available_actions())\n",
        "      mask = torch.zeros(env.action_space.n, dtype=torch.bool)\n",
        "      mask.scatter_(0, indices, True)\n",
        "\n",
        "      mask = mask.unsqueeze(0).to(device)\n",
        "\n",
        "      state = torch.from_numpy(state).float().unsqueeze(0).to(device)\n",
        "\n",
        "      logits, _ = net(state, mask)\n",
        "      \n",
        "      probs = F.softmax(logits, dim=1)\n",
        "      dist = Categorical(probs)\n",
        "      \n",
        "      action = dist.sample()\n",
        "      next_state, reward, done, _ = env.step(action.cpu().numpy())\n",
        "\n",
        "      states.append(state)\n",
        "      actions.append(action)\n",
        "      masks.append(mask)\n",
        "      rewards.append(reward)\n",
        "      dones.append(done)\n",
        "\n",
        "      state = next_state\n",
        "\n",
        "      if done:\n",
        "        last_done_index = len(states) - 1\n",
        "        state = env.reset()\n",
        "\n",
        "    frame_idx += 1\n",
        "\n",
        "    if reward:\n",
        "      n_episode += 1\n",
        "      \n",
        "      if reward == 1:\n",
        "        ep_rewards.append(1)\n",
        "      else:\n",
        "        ep_rewards.append(0)\n",
        "\n",
        "      if len(ep_rewards) == 100:\n",
        "        speed = (frame_idx - ts_frame) / (time.time() - ts)\n",
        "        ts_frame = frame_idx\n",
        "        ts = time.time()\n",
        "\n",
        "        m_reward = np.mean(ep_rewards)\n",
        "        m_loss = np.mean(losses[-100:])\n",
        "          \n",
        "        m_rewards.append(m_reward)\n",
        "        m_losses.append(m_loss)\n",
        "\n",
        "        if best_m_reward < m_reward:\n",
        "          print(\"NEW BEST MEAN REWARD --> {:.2f}% win rate\".format(m_reward*100))\n",
        "          best_m_reward = m_reward\n",
        "\n",
        "        print(\"frame: {},  episode: {}, win rate: {:.1f}%, loss: {:.4f}, f/s: {:.2f}\".format(\n",
        "              frame_idx, n_episode, m_reward*100, m_loss, speed\n",
        "        ))\n",
        "\n",
        "        torch.save({'net':net.state_dict(), 'optimizer':optimizer.state_dict(), 'frame_idx':frame_idx, \n",
        "                    'n_episode':n_episode, 'best_m_reward':best_m_reward}, '../../../../drive/My Drive/training/locm-ppo-save.chkpt')\n",
        "\n",
        "        ep_rewards = collections.deque(maxlen=100)\n",
        "        losses.clear()\n",
        "\n",
        "    if len(states) < PPO_TRAJ:\n",
        "      continue\n",
        "\n",
        "    if last_done_index is None or last_done_index == len(states)-1:\n",
        "      continue\n",
        "\n",
        "    states = states[:last_done_index+2]\n",
        "    actions = actions[:last_done_index + 2]\n",
        "    masks = masks[:last_done_index + 2]\n",
        "    rewards = rewards[:last_done_index + 2]\n",
        "    dones = dones[:last_done_index + 2]\n",
        "       \n",
        "    states_t = torch.cat(states).to(device)\n",
        "    actions_t = torch.tensor(actions).to(device)\n",
        "    masks_t = torch.cat(masks).to(device)\n",
        "    \n",
        "    policy, values = net(states_t, masks_t)\n",
        "    values = values.squeeze()\n",
        "\n",
        "    advantage, ref = calc_adv_ref(values.data.cpu().numpy(),\n",
        "                                      dones, rewards, GAMMA, GAE_LAMBDA)\n",
        "    advantage = advantage.to(device)\n",
        "    ref = ref.to(device)\n",
        "\n",
        "    logpolicy = F.log_softmax(policy, dim=1)\n",
        "    old_logprob = logpolicy.gather(1, actions_t.unsqueeze(-1)).squeeze(-1)\n",
        "    advantage = (advantage - torch.mean(advantage)) / torch.std(advantage)\n",
        "    old_logprob = old_logprob.detach()\n",
        "\n",
        "    len_trajectory = len(states) - 1\n",
        "    len_trajectory -= len_trajectory % BATCH_SIZE\n",
        "    len_trajectory += 1\n",
        "    indices = np.arange(0, len_trajectory-1)\n",
        "\n",
        "    for _ in range(PPO_EPOCHS):\n",
        "      np.random.shuffle(indices)\n",
        "      for batch_indices in np.split(indices, len_trajectory // BATCH_SIZE):\n",
        "            train((\n",
        "                          states_t[batch_indices],\n",
        "                          actions_t[batch_indices],\n",
        "                          masks_t[batch_indices],\n",
        "                          advantage[batch_indices],\n",
        "                          ref[batch_indices],\n",
        "                          old_logprob[batch_indices],\n",
        "                      ))\n",
        "            \n",
        "    states.clear()\n",
        "    actions.clear()\n",
        "    masks.clear()\n",
        "    rewards.clear()\n",
        "    dones.clear()"
      ],
      "execution_count": null,
      "outputs": []
    },
    {
      "cell_type": "markdown",
      "metadata": {
        "id": "5MbVIH2RWHzy"
      },
      "source": [
        "*Let's display the win rate and loss during training*"
      ]
    },
    {
      "cell_type": "code",
      "metadata": {
        "colab": {
          "base_uri": "https://localhost:8080/",
          "height": 655
        },
        "id": "0ShtiM4Qac5a",
        "outputId": "8da0c995-c9ab-4637-e812-01ae500c64a2"
      },
      "source": [
        "plt.figure(figsize=(20,5))\n",
        "plt.subplot(131)\n",
        "plt.title('win rate - frame {}'.format(frame_idx))\n",
        "plt.plot(m_rewards)\n",
        "plt.show()\n",
        "\n",
        "plt.figure(figsize=(20,5))\n",
        "plt.subplot(131)\n",
        "plt.title('loss - frame {}'.format(frame_idx))\n",
        "plt.plot(m_losses)\n",
        "plt.show()"
      ],
      "execution_count": null,
      "outputs": [
        {
          "output_type": "display_data",
          "data": {
            "image/png": "[encoded data removed]",
            "text/plain": [
              "<Figure size 1440x360 with 1 Axes>"
            ]
          },
          "metadata": {
            "tags": [],
            "needs_background": "light"
          }
        },
        {
          "output_type": "display_data",
          "data": {
            "image/png": "[encoded data removed]",
            "text/plain": [
              "<Figure size 1440x360 with 1 Axes>"
            ]
          },
          "metadata": {
            "tags": [],
            "needs_background": "light"
          }
        }
      ]
    }
  ]
}