{
  "nbformat": 4,
  "nbformat_minor": 0,
  "metadata": {
    "colab": {
      "name": "QNetwork-additional-training.ipynb",
      "provenance": [],
      "collapsed_sections": []
    },
    "kernelspec": {
      "name": "python3",
      "display_name": "Python 3"
    },
    "accelerator": "GPU"
  },
  "cells": [
    {
      "cell_type": "markdown",
      "metadata": {
        "id": "l_ajjD3GWaDP"
      },
      "source": [
        "# **Additional Q Network training**\n",
        "\n",
        "Below is the code for additional training of the Q-network agent. The training v.s. the greedy battle agent was so successful that we thought we could improve the final performance of the model through self-play. We use the same tricks as before: replay buffer, target network and epsilon greedy exploration. Except this time we play the network against itself (we also interleave greedy play in the replay buffer).\n",
        "\n",
        "**Personal note:** this code is heavily inspired by the code from \"Deep-Reinforcement-Learning-Hands-On-Second-Edition\" by Maxim Lapan. This book helped me learn a lot about actually implementing reinforcement learning algorithms and I highly recommend it. Much of the code from this book can be found here https://github.com/PacktPublishing/Deep-Reinforcement-Learning-Hands-On-Second-Edition ."
      ]
    },
    {
      "cell_type": "markdown",
      "metadata": {
        "id": "k_jhMLAyXGbA"
      },
      "source": [
        "*It is important to open drive and install gym-locm so that the AI can play games*"
      ]
    },
    {
      "cell_type": "code",
      "metadata": {
        "id": "Hq6HMIhcAQ-x",
        "colab": {
          "base_uri": "https://localhost:8080/"
        },
        "outputId": "b924e7c1-30c2-4c73-eb5a-c39b4e0e2627"
      },
      "source": [
        "from google.colab import drive\n",
        "drive.mount('/content/drive')"
      ],
      "execution_count": null,
      "outputs": [
        {
          "output_type": "stream",
          "text": [
            "Mounted at /content/drive\n"
          ],
          "name": "stdout"
        }
      ]
    },
    {
      "cell_type": "code",
      "metadata": {
        "id": "Bq5kLfYpAewj",
        "colab": {
          "base_uri": "https://localhost:8080/"
        },
        "outputId": "74fe2051-848a-43d5-ba80-c5bf91ffe5fd"
      },
      "source": [
        "%cd drive/My Drive/locm_project\n",
        "! git clone https://github.com/ronaldosvieira/gym-locm.git\n",
        "%cd gym-locm\n",
        "! pip install -e ."
      ],
      "execution_count": null,
      "outputs": [
        {
          "output_type": "stream",
          "text": [
            "/content/drive/My Drive/locm_project\n",
            "fatal: destination path 'gym-locm' already exists and is not an empty directory.\n",
            "/content/drive/My Drive/locm_project/gym-locm\n",
            "Obtaining file:///content/drive/My%20Drive/locm_project/gym-locm\n",
            "Requirement already satisfied: gym in /usr/local/lib/python3.7/dist-packages (from gym-locm==1.0.0) (0.17.3)\n",
            "Requirement already satisfied: numpy in /usr/local/lib/python3.7/dist-packages (from gym-locm==1.0.0) (1.19.5)\n",
            "Requirement already satisfied: prettytable in /usr/local/lib/python3.7/dist-packages (from gym-locm==1.0.0) (2.1.0)\n",
            "Requirement already satisfied: pexpect in /usr/local/lib/python3.7/dist-packages (from gym-locm==1.0.0) (4.8.0)\n",
            "Collecting sty\n",
            "  Downloading https://files.pythonhosted.org/packages/57/20/8b633cdaa481bfeb5fd99eb3abbba151fe5d36ef64b2fb75868991f7e226/sty-1.0.0rc1-py3-none-any.whl\n",
            "Requirement already satisfied: pyglet<=1.5.0,>=1.4.0 in /usr/local/lib/python3.7/dist-packages (from gym->gym-locm==1.0.0) (1.5.0)\n",
            "Requirement already satisfied: cloudpickle<1.7.0,>=1.2.0 in /usr/local/lib/python3.7/dist-packages (from gym->gym-locm==1.0.0) (1.3.0)\n",
            "Requirement already satisfied: scipy in /usr/local/lib/python3.7/dist-packages (from gym->gym-locm==1.0.0) (1.4.1)\n",
            "Requirement already satisfied: importlib-metadata; python_version < \"3.8\" in /usr/local/lib/python3.7/dist-packages (from prettytable->gym-locm==1.0.0) (3.7.2)\n",
            "Requirement already satisfied: wcwidth in /usr/local/lib/python3.7/dist-packages (from prettytable->gym-locm==1.0.0) (0.2.5)\n",
            "Requirement already satisfied: ptyprocess>=0.5 in /usr/local/lib/python3.7/dist-packages (from pexpect->gym-locm==1.0.0) (0.7.0)\n",
            "Requirement already satisfied: future in /usr/local/lib/python3.7/dist-packages (from pyglet<=1.5.0,>=1.4.0->gym->gym-locm==1.0.0) (0.16.0)\n",
            "Requirement already satisfied: typing-extensions>=3.6.4; python_version < \"3.8\" in /usr/local/lib/python3.7/dist-packages (from importlib-metadata; python_version < \"3.8\"->prettytable->gym-locm==1.0.0) (3.7.4.3)\n",
            "Requirement already satisfied: zipp>=0.5 in /usr/local/lib/python3.7/dist-packages (from importlib-metadata; python_version < \"3.8\"->prettytable->gym-locm==1.0.0) (3.4.1)\n",
            "Installing collected packages: sty, gym-locm\n",
            "  Running setup.py develop for gym-locm\n",
            "Successfully installed gym-locm sty-1.0.0rc1\n"
          ],
          "name": "stdout"
        }
      ]
    },
    {
      "cell_type": "markdown",
      "metadata": {
        "id": "9ZUTZbMmXHrQ"
      },
      "source": [
        "*Imports*"
      ]
    },
    {
      "cell_type": "code",
      "metadata": {
        "id": "aByaGbOjAiYy"
      },
      "source": [
        "import numpy as np\n",
        "import collections\n",
        "import random\n",
        "import math\n",
        "import time\n",
        "from operator import attrgetter\n",
        "from typing import Type\n",
        "\n",
        "import pexpect\n",
        "import sys\n",
        "\n",
        "from gym_locm.engine import *\n",
        "\n",
        "import gym\n",
        "import gym.spaces\n",
        "\n",
        "import torch\n",
        "import torch.nn as nn\n",
        "import torch.optim as optim\n",
        "\n",
        "import matplotlib.pyplot as plt"
      ],
      "execution_count": null,
      "outputs": []
    },
    {
      "cell_type": "markdown",
      "metadata": {
        "id": "QTXIaWi-XS0t"
      },
      "source": [
        "*some helper code for setting up the networks*"
      ]
    },
    {
      "cell_type": "code",
      "metadata": {
        "id": "hwcLyhkeTf5u"
      },
      "source": [
        "name = \"LOCM-battle-v0\"\n",
        "env = gym.make(name)\n",
        "\n",
        "n_actions = env.action_space.n\n",
        "observation_space_shape = np.array(env.observation_space.shape).prod()"
      ],
      "execution_count": null,
      "outputs": []
    },
    {
      "cell_type": "markdown",
      "metadata": {
        "id": "n1VnH-plXbc6"
      },
      "source": [
        "**DQN P Greedy Battle Agent** - this agent will act as our adversary for the self-play training. At the start of every game we decide to either play the rest of the game using the trained network (with frozen weights) or with the same greedy strategy as the greedy battle agent (with probability p)."
      ]
    },
    {
      "cell_type": "code",
      "metadata": {
        "id": "5kByCKHSYKc8"
      },
      "source": [
        "class DQNPGreedyBattleAgent():\n",
        "  '''\n",
        "  Static dqn battle agent with p greedy playout\n",
        "  p = probability of playing a game with greedy strategy\n",
        "  '''\n",
        "  def __init__(self, p=0.5):\n",
        "    self.p = p\n",
        "    self.net = DQN().to(device)\n",
        "    params = torch.load('../../../../drive/My Drive/training/locm-dqn-save-self2.chkpt')\n",
        "    self.net.load_state_dict(params['net'])\n",
        "    print('[STATIC MODEL]: Loaded trained model from locm-dqn-save-self2.chkpt')\n",
        "\n",
        "  def seed(self, seed):\n",
        "    pass\n",
        "\n",
        "  def reset(self):\n",
        "    '''\n",
        "    each game randomly decide whether to play with a greedy strategy or with the trained q network\n",
        "    '''\n",
        "    self.greedy_policy = np.random.random() < self.p\n",
        "\n",
        "  @staticmethod\n",
        "  def eval_state(state):      \n",
        "    def eval_creature(creature):\n",
        "      score = 0\n",
        "\n",
        "      if creature.attack > 0:\n",
        "        score += 28.6875\n",
        "        score += creature.attack * 23.375\n",
        "        score += creature.defense * 29.625\n",
        "\n",
        "        if creature.has_ability('W'):\n",
        "          score += creature.attack * 26\n",
        "\n",
        "        if creature.has_ability('L'):\n",
        "          score += 29.0625\n",
        "\n",
        "      if creature.has_ability('G'):\n",
        "        score += 25.125\n",
        "\n",
        "      return score\n",
        "        \n",
        "    score = 0\n",
        "\n",
        "    pl = state.current_player\n",
        "    op = state.opposing_player\n",
        "\n",
        "    if pl.health < 5:\n",
        "      score -= 100\n",
        "\n",
        "    # check opponent's death\n",
        "    if op.health <= 0:\n",
        "      score += 100000\n",
        "\n",
        "    # check own death\n",
        "    elif pl.health <= 0:\n",
        "      score -= 100000\n",
        "\n",
        "    # health difference\n",
        "    score += (pl.health - op.health) * 2\n",
        "        \n",
        "    for c in pl.hand:\n",
        "      if not isinstance(c, Creature):\n",
        "        score += 14.6875\n",
        "\n",
        "    if len(pl.hand) + pl.bonus_draw + 1 <= 8:\n",
        "      score += (pl.bonus_draw + 1) * 20.625\n",
        "                \n",
        "    for pl_lane, op_lane in zip(pl.lanes, op.lanes):\n",
        "      # creature strength\n",
        "      score += sum(eval_creature(c) for c in pl_lane)\n",
        "      score -= sum(eval_creature(c) for c in op_lane)\n",
        "\n",
        "    return score\n",
        "\n",
        "  @torch.no_grad()\n",
        "  def act(self, state):\n",
        "    if self.greedy_policy:\n",
        "      best_action, best_score = None, float(\"-inf\")\n",
        "\n",
        "      if len(state.available_actions) == 1:\n",
        "        return state.available_actions[0]\n",
        "          \n",
        "      for action in state.available_actions:\n",
        "        state_copy = state.clone()\n",
        "        state_copy.act(action)\n",
        "\n",
        "        score = self.eval_state(state_copy)\n",
        "        if score > best_score:\n",
        "          best_action, best_score = action, score\n",
        "      return best_action\n",
        "    else:\n",
        "      # q network action\n",
        "      state = env.encode_state()\n",
        "\n",
        "      indices = torch.tensor(available_actions()).to(device)\n",
        "      mask = torch.zeros(n_actions, dtype=torch.bool).to(device)\n",
        "      mask.scatter_(0, indices, True)\n",
        "\n",
        "      state_a = np.array([state], copy=False)\n",
        "      state_v = torch.tensor(state_a).to(device)\n",
        "\n",
        "      q_vals_v = self.net(state_v, mask).cpu()\n",
        "      act_v = q_vals_v.argmax()\n",
        "      action = int(act_v.item())\n",
        "\n",
        "      return action"
      ],
      "execution_count": null,
      "outputs": []
    },
    {
      "cell_type": "markdown",
      "metadata": {
        "id": "LSsiLKRNYOwJ"
      },
      "source": [
        "# **Main training code**"
      ]
    },
    {
      "cell_type": "code",
      "metadata": {
        "id": "7xTH5aLFCFWT"
      },
      "source": [
        "def available_actions():\n",
        "  available_actions = env.state.available_actions\n",
        "  action_numbers = []\n",
        "\n",
        "  for action_number in range(n_actions):\n",
        "    action = env.decode_action(action_number)\n",
        "    if action in available_actions:\n",
        "      action_numbers.append(action_number)\n",
        "\n",
        "  return np.array(action_numbers, dtype=np.int64)\n",
        "\n",
        "class DQN(nn.Module):\n",
        "  def __init__(self):\n",
        "    super(DQN, self).__init__()\n",
        "\n",
        "    self.fc = nn.Sequential(\n",
        "        nn.Linear(observation_space_shape, 512),\n",
        "        nn.ReLU(),\n",
        "        nn.Linear(512, 256),\n",
        "        nn.ReLU(),\n",
        "        nn.Linear(256, n_actions)\n",
        "    )\n",
        "  \n",
        "  def forward(self, x, mask):\n",
        "    x = x.view(x.size(0),-1)\n",
        "    fx = x.float() / 256\n",
        "    q_vals_v = self.fc(fx)\n",
        "\n",
        "    masked_q_vals_v = q_vals_v.masked_fill(~mask, -np.inf)\n",
        "    return masked_q_vals_v\n",
        "\n",
        "Experience = collections.namedtuple('Experience', field_names=['state', 'action', 'mask', 'reward', 'done', 'new_state', 'new_mask'])\n",
        "\n",
        "class ReplayBuffer():\n",
        "    def __init__(self, capacity):\n",
        "        self.buffer = collections.deque(maxlen=capacity)\n",
        "    \n",
        "    def put(self, transition):\n",
        "        self.buffer.append(transition)\n",
        "    \n",
        "    def sample(self, batch_size):\n",
        "      indices = np.random.choice(self.size(), batch_size, replace=False)\n",
        "\n",
        "      states, actions, masks, rewards, dones, next_states, next_masks = zip(*[self.buffer[idx] for idx in indices])\n",
        "      return np.array(states), np.array(actions, dtype=np.int64), np.array(masks, dtype=np.bool), np.array(rewards, dtype=np.float32), np.array(dones, dtype=np.uint8), np.array(next_states), np.array(next_masks, dtype=np.bool)\n",
        "   \n",
        "    def size(self):\n",
        "        return len(self.buffer)\n",
        "\n",
        "def calc_loss(batch, net, tgt_net, device=\"cpu\"):\n",
        "  states, actions, masks, rewards, dones, next_states, next_masks = batch\n",
        "\n",
        "  # wrap np array in tensors\n",
        "  states_v = torch.tensor(np.array(states, copy=False)).to(device)\n",
        "  next_states_v = torch.tensor(np.array(next_states, copy=False)).to(device)\n",
        "  actions_v = torch.tensor(actions).to(device)\n",
        "  masks_v = torch.tensor(masks).to(device)\n",
        "  rewards_v = torch.tensor(rewards).to(device)\n",
        "  done_mask = torch.BoolTensor(dones).to(device)\n",
        "  next_masks_v = torch.tensor(next_masks).to(device)\n",
        "  \n",
        "  # pass observations to the network and get Q values\n",
        "  state_action_values = net(states_v, masks_v).gather(1, actions_v.unsqueeze(-1)).squeeze(-1)\n",
        "  \n",
        "  with torch.no_grad():\n",
        "    # use the target network to the next state obseravtion and get the maximum q value for the same action\n",
        "      next_state_values = tgt_net(next_states_v, next_masks_v).max(1)[0]\n",
        "      next_state_values[done_mask] = 0.0\n",
        "      next_state_values = next_state_values.detach()\n",
        "\n",
        "  # calculate bellman approximation and MSE loss\n",
        "  expected_state_action_values = next_state_values * GAMMA + rewards_v\n",
        "  #print(state_action_values, next_state_values)\n",
        "  return nn.MSELoss()(state_action_values, expected_state_action_values)\n",
        "\n",
        "class Agent:\n",
        "  def __init__(self, replay_buffer):\n",
        "    self.replay_buffer = replay_buffer\n",
        "    self._reset()\n",
        "\n",
        "  def _reset(self):\n",
        "    self.state = env.reset()\n",
        "\n",
        "  @torch.no_grad()\n",
        "  def play_step(self, net, epsilon, device=\"cpu\"):\n",
        "    final_reward = None\n",
        "\n",
        "    indices = torch.tensor(available_actions()).to(device)\n",
        "    mask = torch.zeros(n_actions, dtype=torch.bool).to(device)\n",
        "    mask.scatter_(0, indices, True)\n",
        "      \n",
        "    if np.random.random() < epsilon:\n",
        "      action = np.random.choice(available_actions())\n",
        "    else:\n",
        "      state_a = np.array([self.state], copy=False)\n",
        "      state_v = torch.tensor(state_a).to(device)\n",
        "\n",
        "      q_vals_v = net(state_v, mask).cpu()\n",
        "      act_v = q_vals_v.argmax()\n",
        "      action = int(act_v.item())\n",
        "    \n",
        "    new_state, reward, done, info = env.step(action)\n",
        "\n",
        "    indices = torch.tensor(available_actions())\n",
        "    new_mask = torch.zeros(n_actions, dtype=torch.bool)\n",
        "    new_mask.scatter_(0, indices, True)\n",
        "\n",
        "    if new_state is None:\n",
        "      new_state = np.zeros((observation_space_shape,), dtype=np.float32)\n",
        "\n",
        "    mask = mask.cpu().numpy()\n",
        "    new_mask = new_mask.cpu().numpy()\n",
        "\n",
        "    replay = Experience(self.state, action, mask, reward, done, new_state, new_mask)\n",
        "    self.replay_buffer.put(replay)\n",
        "    self.state = new_state\n",
        "\n",
        "    if done:\n",
        "      final_reward = reward\n",
        "      self._reset()\n",
        "      \n",
        "    return final_reward\n",
        "\n",
        "GAMMA = 0.99\n",
        "BATCH_SIZE = 32\n",
        "REPLAY_SIZE = 200000\n",
        "REPLAY_START_SIZE = 40000\n",
        "LEARNING_RATE = 5e-5\n",
        "SYNC_TARGET_FRAMES = 1000\n",
        "\n",
        "EPSILON_DECAY_LAST_FRAME = 2000000\n",
        "EPSILON_START = 0.20\n",
        "EPSILON_FINAL = 0.01\n",
        "\n",
        "epsilon = EPSILON_START\n",
        "\n",
        "device = torch.device(\"cuda\" if torch.cuda.is_available() else \"cpu\")\n",
        "\n",
        "name = \"LOCM-battle-v0\"\n",
        "env = gym.make(name, battle_agent=DQNPGreedyBattleAgent())\n",
        "\n",
        "best_m_reward = 0.0\n",
        "n_episode = 0\n",
        "rewards = []\n",
        "losses = []\n",
        "m_rewards = []\n",
        "m_losses = []\n",
        "\n",
        "seed = 742\n",
        "torch.manual_seed(seed)\n",
        "env.seed(seed)\n",
        "np.random.seed(seed)\n",
        "env.action_space.seed(seed)\n",
        "\n",
        "net = DQN().to(device)\n",
        "target_net = DQN().to(device)\n",
        "#target_net.load_state_dict(net.state_dict())\n",
        "memory = ReplayBuffer(REPLAY_SIZE)\n",
        "\n",
        "print(net)\n",
        "\n",
        "agent = Agent(memory)\n",
        "optimizer = optim.Adam(net.parameters(), lr=LEARNING_RATE)\n",
        "\n",
        "frame_idx = 0\n",
        "\n",
        "params = torch.load('../../../../drive/My Drive/training/locm-dqn-save-self2.chkpt')\n",
        "net.load_state_dict(params['net'])\n",
        "target_net.load_state_dict(net.state_dict())\n",
        "optimizer.load_state_dict(params['optimizer'])\n",
        "print(\"[TRAINABLE MODEL]: Loaded trained model from locm-dqn-save-self2.chkpt\")\n",
        "\n",
        "ts_frame = frame_idx\n",
        "ts = time.time()\n",
        "\n",
        "while True:\n",
        "  frame_idx += 1\n",
        "  epsilon = max(EPSILON_FINAL, EPSILON_START - (frame_idx / EPSILON_DECAY_LAST_FRAME) * EPSILON_START)\n",
        "  reward = agent.play_step(net, epsilon, device=device)\n",
        "  \n",
        "  if reward is not None:\n",
        "    n_episode += 1\n",
        "    \n",
        "    if reward == 1:\n",
        "      rewards.append(1)\n",
        "    else:\n",
        "      rewards.append(0)\n",
        "\n",
        "    if frame_idx > REPLAY_START_SIZE and n_episode%100==0:\n",
        "      speed = (frame_idx - ts_frame) / (time.time() - ts)\n",
        "      ts_frame = frame_idx\n",
        "      ts = time.time()\n",
        "\n",
        "      m_reward = np.mean(rewards[-100:])\n",
        "      m_loss = np.mean(losses[-100:])\n",
        "\n",
        "      m_rewards.append(m_reward)\n",
        "      m_losses.append(m_loss)\n",
        "\n",
        "      if best_m_reward < m_reward:\n",
        "        print(\"NEW BEST MEAN REWARD --> {:.2f}% win rate\".format(m_reward*100))\n",
        "        best_m_reward = m_reward\n",
        "      \n",
        "      print(\"frame: {},  episode: {}, win rate: {:.1f}%, epsilon: {:.3f}, loss: {:.4f}, f/s: {:.2f}\".format(\n",
        "            frame_idx, n_episode, m_reward*100, epsilon, m_loss, speed\n",
        "      ))\n",
        "\n",
        "      torch.save({'net':net.state_dict(), 'optimizer':optimizer.state_dict()}, '../../../../drive/My Drive/training/locm-dqn-save-self3.chkpt')\n",
        "        \n",
        "      losses.clear()\n",
        "      rewards.clear()\n",
        "\n",
        "  if memory.size()<REPLAY_START_SIZE:\n",
        "    continue\n",
        "\n",
        "  optimizer.zero_grad()\n",
        "  batch = memory.sample(BATCH_SIZE)\n",
        "  loss_t = calc_loss(batch, net, target_net, device=device)\n",
        "  loss_t.backward()\n",
        "  optimizer.step()\n",
        "  losses.append(loss_t.item())\n",
        "\n",
        "  if frame_idx%SYNC_TARGET_FRAMES == 0:\n",
        "    target_net.load_state_dict(net.state_dict())"
      ],
      "execution_count": null,
      "outputs": []
    },
    {
      "cell_type": "markdown",
      "metadata": {
        "id": "pricyYeNYU9X"
      },
      "source": [
        "*Let's display the win rate and loss during training*"
      ]
    },
    {
      "cell_type": "code",
      "metadata": {
        "id": "-oXFipCPkAn0",
        "colab": {
          "base_uri": "https://localhost:8080/",
          "height": 655
        },
        "outputId": "608c3fc3-2d16-4a45-aceb-f0b3bc9a422e"
      },
      "source": [
        "plt.figure(figsize=(20,5))\n",
        "plt.subplot(131)\n",
        "plt.title('win rate - frame {}'.format(frame_idx))\n",
        "plt.plot(m_rewards)\n",
        "plt.show()\n",
        "\n",
        "plt.figure(figsize=(20,5))\n",
        "plt.subplot(131)\n",
        "plt.title('loss - frame {}'.format(frame_idx))\n",
        "plt.plot(m_losses)\n",
        "plt.show()"
      ],
      "execution_count": null,
      "outputs": [
        {
          "output_type": "display_data",
          "data": {
            "image/png": "[encoded data removed]",
            "text/plain": [
              "<Figure size 1440x360 with 1 Axes>"
            ]
          },
          "metadata": {
            "tags": [],
            "needs_background": "light"
          }
        },
        {
          "output_type": "display_data",
          "data": {
            "image/png": "[encoded data removed]",
            "text/plain": [
              "<Figure size 1440x360 with 1 Axes>"
            ]
          },
          "metadata": {
            "tags": [],
            "needs_background": "light"
          }
        }
      ]
    }
  ]
}